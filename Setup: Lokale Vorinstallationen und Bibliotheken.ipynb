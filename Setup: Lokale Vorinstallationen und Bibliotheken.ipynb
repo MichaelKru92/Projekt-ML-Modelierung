{
  "nbformat": 4,
  "nbformat_minor": 0,
  "metadata": {
    "colab": {
      "provenance": [],
      "authorship_tag": "ABX9TyN50yB7twCiulsNkiDoKq49",
      "include_colab_link": true
    },
    "kernelspec": {
      "name": "python3",
      "display_name": "Python 3"
    },
    "language_info": {
      "name": "python"
    }
  },
  "cells": [
    {
      "cell_type": "markdown",
      "metadata": {
        "id": "view-in-github",
        "colab_type": "text"
      },
      "source": [
        "<a href=\"https://colab.research.google.com/github/MichaelKru92/Projekt-ML-Modelierung/blob/main/Setup%3A%20Lokale%20Vorinstallationen%20und%20Bibliotheken.ipynb\" target=\"_parent\"><img src=\"https://colab.research.google.com/assets/colab-badge.svg\" alt=\"Open In Colab\"/></a>"
      ]
    },
    {
      "cell_type": "markdown",
      "source": [
        "**Setup und Vorinstallationen**\n",
        "\n",
        "Um lokal an dem gemeinsamen Projekt zu arbeiten haben wir folgende Vorinstallationen durchgeführt:\n",
        "\n",
        "1. Schritt:   Pruefen, ob pip installiert ist. Eingabe im Terminal:\n",
        "\n",
        "        python3 -m pip --version\n",
        "            --> pip 24.0\n",
        "2. Schritt:  Virtuelle Umgebung namens .venv erstellen. Eingabe im Terminal:\n",
        "\n",
        "        python3 -m venv .venv\n",
        "3. Schritt:       Aktivieren der virtuellen Umgebung. Der verwendete Pfad     bezieht sich auf einen lokalen Ordner auf dem Desktop. Eingabe im Terminal:\n",
        "\n",
        "        source /Users/...../Desktop/Projekt-ML-Modelierung/.venv/bin/activate\n",
        "4. Schritt:      Python-Module in der virtuellen Umgebung installieren. Eingabe im Terminal:\n",
        "        pip install pandas numpy scipy skikit-learn matplotlib"
      ],
      "metadata": {
        "id": "y2d3vtK9b2MA"
      }
    },
    {
      "cell_type": "markdown",
      "source": [
        "**Import der Bibliotheken für das Projekt**\n",
        "\n",
        "In diesem ML-Projekt verwenden wir die folgenden Bibliotheken:\n",
        "\n",
        "\n",
        "*   pandas\n",
        "*   NumPy\n",
        "*   Matplotlib\n",
        "*   seaborn\n",
        "*   Scikit-Learn\n",
        "*   os\n",
        "*   sys\n",
        "*   sqlite3\n",
        "\n",
        "Diese werden im folgenden in unser Projekt importiert.\n",
        "\n"
      ],
      "metadata": {
        "id": "U7Gl2iEkfLDv"
      }
    },
    {
      "cell_type": "code",
      "source": [
        "import pandas as pd\n",
        "import numpy as np\n",
        "import matplotlib.pyplot as plt\n",
        "import os\n",
        "import sys\n",
        "import seaborn as sns\n",
        "import sqlite3"
      ],
      "metadata": {
        "id": "aEfH5fNkeGRD"
      },
      "execution_count": null,
      "outputs": []
    }
  ]
}