{
  "nbformat": 4,
  "nbformat_minor": 0,
  "metadata": {
    "colab": {
      "provenance": [],
      "authorship_tag": "ABX9TyMiBld7aEuhSpMLTM0jHHzy",
      "include_colab_link": true
    },
    "kernelspec": {
      "name": "python3",
      "display_name": "Python 3"
    },
    "language_info": {
      "name": "python"
    }
  },
  "cells": [
    {
      "cell_type": "markdown",
      "metadata": {
        "id": "view-in-github",
        "colab_type": "text"
      },
      "source": [
        "<a href=\"https://colab.research.google.com/github/MichaelKru92/Projekt-ML-Modelierung/blob/main/Schritt_5_Datentransformation.ipynb\" target=\"_parent\"><img src=\"https://colab.research.google.com/assets/colab-badge.svg\" alt=\"Open In Colab\"/></a>"
      ]
    },
    {
      "cell_type": "markdown",
      "source": [
        "**Datentransformation**\n",
        "\n",
        "**Fehlende Eingaben:**\n",
        "\n",
        "Der Umgang mit Null-Werten in den Rohdaten wurde im Hinblick auf die Fragestellung zur Vorhersage der Gesundheitskosten für die betroffenen Parameter geprüft mit folgenden Fazit:\n",
        "\n",
        "*   STOP: Nullwerte Tabellen übergreifend beibehalten\n",
        "*   REASONCODE, REASONDESCRIPTION: Entfernen der betroffenen Zeilen in Careplans-Tabelle\n",
        "*   DRIVERS, PASSPORT, PREFIX, SUFFIX, MAIDEN, MARITAL: Entfernen der betroffenen Zeilen in Patients-Tabelle\n",
        "*   REASONCODE, REASONDESCRIPTION: Entfernen der Spalten der Encounters-Tabelle\n",
        "*   REASONCODE, REASONDESCRIPTION: Entfernen der Spalten der Medications-Tabelle\n",
        "*   ENCOUNTER: Entfernen der Zeile in der Observations-Tabelle\n",
        "\n",
        "**Zeitangaben:**\n",
        "\n",
        "Datumsangaben (Spalten: START, STOP) werden vereinheitlicht."
      ],
      "metadata": {
        "id": "JC5nmKoDOvLZ"
      }
    },
    {
      "cell_type": "code",
      "execution_count": null,
      "metadata": {
        "id": "hhmaB8CzObJW"
      },
      "outputs": [],
      "source": []
    }
  ]
}