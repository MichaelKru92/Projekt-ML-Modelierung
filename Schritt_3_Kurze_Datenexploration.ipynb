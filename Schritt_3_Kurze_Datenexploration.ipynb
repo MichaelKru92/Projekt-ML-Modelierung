{
  "cells": [
    {
      "cell_type": "markdown",
      "metadata": {
        "colab_type": "text",
        "id": "view-in-github"
      },
      "source": [
        "<a href=\"https://colab.research.google.com/github/MichaelKru92/Projekt-ML-Modelierung/blob/main/Schritt_3_Kurze_Datenexploration.ipynb\" target=\"_parent\"><img src=\"https://colab.research.google.com/assets/colab-badge.svg\" alt=\"Open In Colab\"/></a>"
      ]
    },
    {
      "cell_type": "markdown",
      "metadata": {
        "id": "AyjqzJ17n-25"
      },
      "source": [
        "**Ein erster Blick auf die Daten**\n",
        "\n",
        "Der folgenden Funktion wird eine Liste mit den Dateinamen der entpackten zip-Datei übergeben.\n",
        "\n",
        "Es erfolgt eine erste kurze Exploration der Daten:\n",
        "\n",
        "*   Darstellung der ersten 10 Zeilen jeder Tabelle\n",
        "*   Ausgabe der Datentypen, Spaltennamen und Nullwerte"
      ]
    },
    {
      "cell_type": "code",
      "execution_count": null,
      "metadata": {
        "collapsed": true,
        "id": "N908sNecn8wZ"
      },
      "outputs": [],
      "source": [
        "import pandas as pd\n",
        "import numpy as np\n",
        "import os\n",
        "\n",
        "# Retrieve the environment variable or default to the current directory\n",
        "ROHDATEN_LOCAL_PATH = os.getenv('ROHDATEN_LOCAL_PATH', 'Rohdaten(CSV)')\n",
        "CSV_PATH = ROHDATEN_LOCAL_PATH  # Use the environment variable directly\n",
        "\n",
        "CSV_TABLES = [\"careplans.csv\", \"conditions.csv\", \"devices.csv\", \"disease.csv\", \"encounters.csv\", \"imaging_studies.csv\", \"immunizations.csv\",\n",
        "              \"medications.csv\", \"observations.csv\", \"organizations.csv\", \"patients.csv\", \"payer_transitions.csv\", \"payers.csv\", \"procedures.csv\",\n",
        "              \"providers.csv\", \"supplies.csv\"]\n",
        "\n",
        "def load_csv_to_df_overview(csv_tables=CSV_TABLES, csv_path=CSV_PATH):\n",
        "    for i in csv_tables:\n",
        "        csv_table_path = os.path.join(csv_path, i)\n",
        "        print(f\"\\n\\nDie ersten 10 Zeilen von Tabelle {i}:\")\n",
        "        display(pd.read_csv(csv_table_path).head())\n",
        "        print(f\"\\n\\nMetadaten zu Tabelle {i}:\\n\")\n",
        "        pd.read_csv(csv_table_path).info()\n",
        "        print(f\"\\n\\nNullwerte in Tabelle {i}:\\n\", pd.read_csv(csv_table_path).isnull().sum())\n",
        "\n",
        "\n",
        "load_csv_to_df_overview()"
      ]
    },
    {
      "cell_type": "markdown",
      "metadata": {
        "id": "K1--bmr3q2kX"
      },
      "source": [
        "**Zusammenfassung der Auswertung**\n",
        "\n",
        "Als möglicherweise für eine ML-Auswertung zur Vorhersage von Gesundheitskosten beeinträchtigend zeigt sich im Allgemeinen Folgendes:\n",
        "*   Spalten START und STOP Datumswerte als object gespeichert sind\n",
        "*   Die Spalte CODE anthaelt einen SNOMED Code und ist als float gespeichert\n",
        "*   Es existieren fehelende Einträge (Null-Werte). Betroffen sind die Spalte STOP, REASONCODE,    REASONDESCRIPTION in mehreren Tabellen, sowie ENCOUNTER-ID und UNITS in der Encounter-Tabelle\n",
        "\n",
        "Insgesamt finden sich 135 Patienten in der Patients-Tabelle. Demgegenüber stehen 7768 Einträge in der Encounter-Tabelle. Daraus laesst sich vermuten, dass entweder mehrere Fälle pro Patient existieren oder Duplikate vorliegen.\n",
        "\n",
        "Letzteres wird wie folgt eruiert:\n"
      ]
    },
    {
      "cell_type": "code",
      "execution_count": null,
      "metadata": {
        "collapsed": true,
        "id": "MfuOg_yLw-Rg"
      },
      "outputs": [],
      "source": [
        "df_encounter = pd.read_csv(os.path.join(CSV_PATH, \"encounters.csv\"))\n",
        "df_patients = pd.read_csv(os.path.join(CSV_PATH, \"patients.csv\"))\n",
        "df_medications = pd.read_csv(os.path.join(CSV_PATH, \"medications.csv\"))\n",
        "df_observations = pd.read_csv(os.path.join(CSV_PATH, \"observations.csv\"))\n",
        "df_immunizations = pd.read_csv(os.path.join(CSV_PATH, \"immunizations.csv\"))\n",
        "df_procedures = pd.read_csv(os.path.join(CSV_PATH, \"procedures.csv\"))\n",
        "\n",
        "\n",
        "def check_for_duplicates(df, column):\n",
        "  df[column] = df[column].apply(str)\n",
        "  dup_df = df.duplicated(subset= [column])\n",
        "  print (f\"Anzahl der Duplikate in Spalte {column}:\", dup_df.sum())\n",
        "  print (df[dup_df].head(10))\n",
        "\n",
        "check_for_duplicates(df_patients, \"Id\")\n",
        "check_for_duplicates(df_medications, \"ENCOUNTER\")\n",
        "check_for_duplicates(df_immunizations, \"ENCOUNTER\")\n",
        "check_for_duplicates(df_observations, \"ENCOUNTER\")\n",
        "check_for_duplicates(df_procedures, \"ENCOUNTER\")"
      ]
    }
  ],
  "metadata": {
    "colab": {
      "authorship_tag": "ABX9TyNKbC1KX22IS06mLwFyTAeG",
      "include_colab_link": true,
      "provenance": []
    },
    "kernelspec": {
      "display_name": "Python 3",
      "name": "python3"
    },
    "language_info": {
      "name": "python"
    }
  },
  "nbformat": 4,
  "nbformat_minor": 0
}
