{
  "nbformat": 4,
  "nbformat_minor": 0,
  "metadata": {
    "colab": {
      "provenance": [],
      "authorship_tag": "ABX9TyPSKx4gYlGZ1Eea4VuQL5GN",
      "include_colab_link": true
    },
    "kernelspec": {
      "name": "python3",
      "display_name": "Python 3"
    },
    "language_info": {
      "name": "python"
    }
  },
  "cells": [
    {
      "cell_type": "markdown",
      "metadata": {
        "id": "view-in-github",
        "colab_type": "text"
      },
      "source": [
        "<a href=\"https://colab.research.google.com/github/MichaelKru92/Projekt-ML-Modelierung/blob/main/Schritt_2_Download_Rohdaten.ipynb\" target=\"_parent\"><img src=\"https://colab.research.google.com/assets/colab-badge.svg\" alt=\"Open In Colab\"/></a>"
      ]
    },
    {
      "cell_type": "markdown",
      "source": [
        "**Rohdaten herunterladen und entpacken**\n",
        "\n",
        "Die folgende Funktion läd die in unserem GitHub Repository vorhandene Rohdaten.zip herunter und speichert diese in ein lokales Verzeichnis \"Rohdaten\". Anschließend werden die in Rohdaten.zip enthaltenen CSV-Dateien in einen Unterordner \"Rohdaten(CSV)\" entpackt.\n",
        "\n",
        "Die Bibliothek os.path ermöglicht es unabhängig vom Betriebssystem und Pfadsyntax auf die Rohdaten zuzugreifen.\n",
        "\n",
        "Sollte sich der Pfad zu den Rohdaten z.B. durch Wechsel des Repositories verändern ist die Funktionalität der Funktion durch einfache Anpassung der Variable DOWNLOAD_ROOT gegeben."
      ],
      "metadata": {
        "id": "LMU9D6HZIuWm"
      }
    },
    {
      "cell_type": "code",
      "execution_count": null,
      "metadata": {
        "id": "s2EnZ9pFIpNz"
      },
      "outputs": [],
      "source": [
        "import os\n",
        "import urllib\n",
        "from zipfile import ZipFile\n",
        "import certifi\n",
        "import ssl\n",
        "\n",
        "DOWNLOAD_ROOT = \"https://raw.githubusercontent.com/MichaelKru92/Projekt-ML-Modelierung/main/\"\n",
        "ROHDATEN_LOCAL_PATH = os.path.join(\".\", \"Rohdaten\")\n",
        "ROHDATEN_URL = DOWNLOAD_ROOT + \"Rohdaten(CSV)/Rohdaten.zip\"\n",
        "\n",
        "def fetch_Rohdaten(rohdaten_url=ROHDATEN_URL, rohdaten_local_path=ROHDATEN_LOCAL_PATH):\n",
        "    os.makedirs(rohdaten_local_path, exist_ok=True)\n",
        "    zip_path = os.path.join(rohdaten_local_path, \"Rohdaten.zip\")                              # Rohdaten.zip wird über lokalen Pfad in das lokale Verzeichnis \"Rohdaten\" heruntergeladen\n",
        "    try:\n",
        "        os.environ['SSL_CERT_FILE'] = certifi.where()                                         # Environment um certifi zu nutzen\n",
        "        context = ssl.create_default_context()                                                # Certifi enthält ein Bundle an SSL Zertifikaten von diversen Certificate Authorities (CA)\n",
        "        with urllib.request.urlopen(rohdaten_url, context=context) as response:               # urlopen prüft die SSL Zertifikate der Website beim Download\n",
        "            with open(zip_path, 'wb') as f:\n",
        "                f.write(response.read())\n",
        "        print(f\"Downloaded to: {zip_path}\")\n",
        "\n",
        "        extract_path = os.path.join(rohdaten_local_path, \"Rohdaten(CSV)\")                     # Pfad des lokale Verzeichnis \"Rohdaten(CSV)\" in das extrahiert wird wird definiert\n",
        "        os.makedirs(extract_path, exist_ok=True)                                              # Lokales Verzeichnis \"Rohdaten(CSV)\" wird erstellt\n",
        "\n",
        "        with ZipFile(zip_path, \"r\") as zip_ref:                                               # ZipFile extrahiert Inhalte aus der zip Datei in das lokale Verzeichnis \"Rohdaten(CSV)\"\n",
        "            zip_ref.extractall(extract_path)\n",
        "        print(f\"Extracted to: {extract_path}\")\n",
        "\n",
        "    except urllib.error.URLError as e:\n",
        "        print(f\"Error downloading: {e}\")\n",
        "    except Exception as e:  # Catch other potential errors\n",
        "        print(f\"An error occurred: {e}\")\n",
        "\n",
        "\n",
        "fetch_Rohdaten()"
      ]
    }
  ]
}