{
  "nbformat": 4,
  "nbformat_minor": 0,
  "metadata": {
    "colab": {
      "provenance": [],
      "include_colab_link": true
    },
    "kernelspec": {
      "name": "python3",
      "display_name": "Python 3"
    },
    "language_info": {
      "name": "python"
    }
  },
  "cells": [
    {
      "cell_type": "markdown",
      "metadata": {
        "id": "view-in-github",
        "colab_type": "text"
      },
      "source": [
        "<a href=\"https://colab.research.google.com/github/MichaelKru92/Projekt-ML-Modelierung/blob/main/Schritt_4_Datenexploration.ipynb\" target=\"_parent\"><img src=\"https://colab.research.google.com/assets/colab-badge.svg\" alt=\"Open In Colab\"/></a>"
      ]
    },
    {
      "cell_type": "code",
      "execution_count": null,
      "metadata": {
        "id": "495QP7LQV4Yk"
      },
      "outputs": [],
      "source": [
        "# jetzt ist er da# Wo ist der Text"
      ]
    },
    {
      "cell_type": "code",
      "source": [
        "\n",
        "\n",
        "DOWNLOAD_ROOT = \"https://raw.githubusercontent.com/MichaelKru92/Projekt-ML-Modelierung/main/\"\n",
        "\n",
        "\n",
        "\n",
        "\n",
        "\n",
        "import pandas as pd\n",
        "import numpy as np\n",
        "import os\n",
        "import matplotlib.pyplot as plt\n",
        "import seaborn as sns\n",
        "import sqlite3\n",
        "\n",
        "\n",
        "source_allergy = \"source_allergy.db\"                                                              #DB Dateiname wird vergeben\n",
        "conn = sqlite3.connect(source_allergy)                                                            #Verbindung zur DB Datei wird hergestellt\n",
        "cur = conn.cursor()                                                                               #Ueber dise Verbindung wird auf die DB ein Cursor gesetzt\n",
        "\n",
        "\n",
        "\n",
        "\n",
        "\n",
        "\n",
        "# SQL-Abfrage definieren\n",
        "SQLBefehl = '''\n",
        "   SELECT *\n",
        "     FROM payers\n",
        "'''\n",
        "\n",
        "# SQL-Abfrage ausführen\n",
        "cur.execute(SQLBefehl)\n",
        "\n",
        "# Ergebnisse abrufen\n",
        "ergebnisse = cursor.fetchall()\n",
        "\n",
        "# In Pandas DataFrame umwandeln\n",
        "df = pd.DataFrame(ergebnisse, columns=[\"Name\", \"Einwohner\"])\n",
        "\n",
        "# Daten anzeigen\n",
        "import ace_tools as tools\n",
        "tools.display_dataframe_to_user(name=\"Kontinent-Daten\", dataframe=df)\n",
        "\n",
        "# Cursor und Verbindung schließen\n",
        "cursor.close()\n",
        "source_allergy.close()\n"
      ],
      "metadata": {
        "id": "Iut4dnPrzpLx",
        "outputId": "199d625b-a6a1-4c75-e0c9-5ecef1977a23",
        "colab": {
          "base_uri": "https://localhost:8080/",
          "height": 207
        }
      },
      "execution_count": 5,
      "outputs": [
        {
          "output_type": "error",
          "ename": "OperationalError",
          "evalue": "no such table: payers",
          "traceback": [
            "\u001b[0;31m---------------------------------------------------------------------------\u001b[0m",
            "\u001b[0;31mOperationalError\u001b[0m                          Traceback (most recent call last)",
            "\u001b[0;32m<ipython-input-5-82b6e0f24759>\u001b[0m in \u001b[0;36m<cell line: 0>\u001b[0;34m()\u001b[0m\n\u001b[1;32m     29\u001b[0m \u001b[0;34m\u001b[0m\u001b[0m\n\u001b[1;32m     30\u001b[0m \u001b[0;31m# SQL-Abfrage ausführen\u001b[0m\u001b[0;34m\u001b[0m\u001b[0;34m\u001b[0m\u001b[0m\n\u001b[0;32m---> 31\u001b[0;31m \u001b[0mcur\u001b[0m\u001b[0;34m.\u001b[0m\u001b[0mexecute\u001b[0m\u001b[0;34m(\u001b[0m\u001b[0mSQLBefehl\u001b[0m\u001b[0;34m)\u001b[0m\u001b[0;34m\u001b[0m\u001b[0;34m\u001b[0m\u001b[0m\n\u001b[0m\u001b[1;32m     32\u001b[0m \u001b[0;34m\u001b[0m\u001b[0m\n\u001b[1;32m     33\u001b[0m \u001b[0;31m# Ergebnisse abrufen\u001b[0m\u001b[0;34m\u001b[0m\u001b[0;34m\u001b[0m\u001b[0m\n",
            "\u001b[0;31mOperationalError\u001b[0m: no such table: payers"
          ]
        }
      ]
    },
    {
      "cell_type": "code",
      "source": [],
      "metadata": {
        "id": "CLO5VkzZN4xE"
      },
      "execution_count": null,
      "outputs": []
    },
    {
      "cell_type": "code",
      "source": [],
      "metadata": {
        "id": "7vQc7VfVM-00"
      },
      "execution_count": null,
      "outputs": []
    },
    {
      "cell_type": "code",
      "source": [],
      "metadata": {
        "id": "cK7YTG0Xzpkt"
      },
      "execution_count": null,
      "outputs": []
    },
    {
      "cell_type": "code",
      "source": [],
      "metadata": {
        "id": "BIKzQQnjzpnA"
      },
      "execution_count": null,
      "outputs": []
    },
    {
      "cell_type": "code",
      "source": [],
      "metadata": {
        "id": "7VOYPp_XzprV"
      },
      "execution_count": null,
      "outputs": []
    }
  ]
}