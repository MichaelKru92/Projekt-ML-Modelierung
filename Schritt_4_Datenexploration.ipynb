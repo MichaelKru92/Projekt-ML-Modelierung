{
  "nbformat": 4,
  "nbformat_minor": 0,
  "metadata": {
    "colab": {
      "provenance": [],
      "include_colab_link": true
    },
    "kernelspec": {
      "name": "python3",
      "display_name": "Python 3"
    },
    "language_info": {
      "name": "python"
    }
  },
  "cells": [
    {
      "cell_type": "markdown",
      "metadata": {
        "id": "view-in-github",
        "colab_type": "text"
      },
      "source": [
        "<a href=\"https://colab.research.google.com/github/MichaelKru92/Projekt-ML-Modelierung/blob/main/Schritt_4_Datenexploration.ipynb\" target=\"_parent\"><img src=\"https://colab.research.google.com/assets/colab-badge.svg\" alt=\"Open In Colab\"/></a>"
      ]
    },
    {
      "cell_type": "code",
      "execution_count": null,
      "metadata": {
        "id": "495QP7LQV4Yk"
      },
      "outputs": [],
      "source": [
        "# jetzt ist er da# Wo ist der Text"
      ]
    },
    {
      "cell_type": "code",
      "source": [
        "#Speicherorte:\n",
        "\n",
        "folderPath = \"/Users/fabian/Library/Mobile Documents/com~apple~CloudDocs/BIDS/03_Datenmanagement/Project X /GitHub_V1/Projekt-ML-Modelierung/\"      # Fabian\n",
        "# folderPath = \"https://raw.githubusercontent.com/MichaelKru92/Projekt-ML-Modelierung/refs/heads/main/\"                                             # GITFolder\n",
        "\n",
        "\n",
        "\n",
        "# #Benoetigte Libraries werden importiert\n",
        "import pandas as pd\n",
        "import matplotlib.pyplot as plt\n",
        "import os\n",
        "import sys                                                                                       #os.path bietet Funktionen zur Manipulation von Pfadnamen https://docs.python.org/3/library/os.path.html\n",
        "import seaborn as sns\n",
        "import sqlite3\n",
        "\n",
        "\n",
        "#Aktuelle Python Version wird ausgegeben----------------------------------------\n",
        "print(\"Python Version:\", sys.version)\n",
        "\n",
        "\n",
        "#Pfad zum GitHub Repository und Verzeichnisnamen--------------------------------\n",
        "synthea_url = \"https://github.com/MichaelKru92/Projekt-ML-Modelierung\"\n",
        "synthea_dir = \"Projekt-ML-Modelierung\"\n",
        "local_Directory = \"/Users/fabian/Library/Mobile Documents/com~apple~CloudDocs/BIDS/03_Datenmanagement/Project X /GitHub_V1/Projekt-ML-Modelierung/\"\n",
        "\n",
        "if not os.path.exists(synthea_dir):                                                              #Sofern der Pfad zum Verzeichnis synthea_data noch nicht existiert\n",
        "    !git clone {synthea_url}                                                                     #Shell command: git kopiere das Repository synthea_url\n",
        "    print(f\"Repository '{synthea_url}' erfolgreich geklont.\")\n",
        "else:\n",
        "    print(f\"Verzeichnis '{synthea_dir}' existiert bereits. Kein erneutes Klonen erforderlich.\")\n",
        "\n",
        "\n",
        "#Inhalte des Verzeichnis inklusiver versteckter Dateien-------------------------\n",
        "!ls -lah synthea\n",
        "\n",
        "\n",
        "\n",
        "#Anlegen einer neuen sqlite Datenbank-------------------------------------------\n",
        "if os.path.exists(\"synthea.db\"):                                                                 #Sofern die Datei synthea.db bereits existiert\n",
        "    os.remove(\"synthea.db\")                                                                       #Datei wird geloescht\n",
        "db_name = \"synthea.db\"                                                                            #DB Dateiname wird vergeben\n",
        "conn = sqlite3.connect(db_name)                                                                   #Verbindung zur DB Datei wird hergestellt\n",
        "cur = conn.cursor()                                                                               #Ueber dise Verbindung wird auf die DB ein Cursor gesetzt\n"
      ],
      "metadata": {
        "id": "Iut4dnPrzpLx",
        "outputId": "199d625b-a6a1-4c75-e0c9-5ecef1977a23",
        "colab": {
          "base_uri": "https://localhost:8080/",
          "height": 207
        }
      },
      "execution_count": null,
      "outputs": [
        {
          "output_type": "error",
          "ename": "OperationalError",
          "evalue": "no such table: payers",
          "traceback": [
            "\u001b[0;31m---------------------------------------------------------------------------\u001b[0m",
            "\u001b[0;31mOperationalError\u001b[0m                          Traceback (most recent call last)",
            "\u001b[0;32m<ipython-input-5-82b6e0f24759>\u001b[0m in \u001b[0;36m<cell line: 0>\u001b[0;34m()\u001b[0m\n\u001b[1;32m     29\u001b[0m \u001b[0;34m\u001b[0m\u001b[0m\n\u001b[1;32m     30\u001b[0m \u001b[0;31m# SQL-Abfrage ausführen\u001b[0m\u001b[0;34m\u001b[0m\u001b[0;34m\u001b[0m\u001b[0m\n\u001b[0;32m---> 31\u001b[0;31m \u001b[0mcur\u001b[0m\u001b[0;34m.\u001b[0m\u001b[0mexecute\u001b[0m\u001b[0;34m(\u001b[0m\u001b[0mSQLBefehl\u001b[0m\u001b[0;34m)\u001b[0m\u001b[0;34m\u001b[0m\u001b[0;34m\u001b[0m\u001b[0m\n\u001b[0m\u001b[1;32m     32\u001b[0m \u001b[0;34m\u001b[0m\u001b[0m\n\u001b[1;32m     33\u001b[0m \u001b[0;31m# Ergebnisse abrufen\u001b[0m\u001b[0;34m\u001b[0m\u001b[0;34m\u001b[0m\u001b[0m\n",
            "\u001b[0;31mOperationalError\u001b[0m: no such table: payers"
          ]
        }
      ]
    },
    {
      "cell_type": "code",
      "source": [
        "# Alle Tabellen Laden\n",
        "\n",
        "CSV_TABLES = [\"careplans.csv\", \"conditions.csv\", \"devices.csv\", \"disease.csv\", \"encounters.csv\", \"imaging_studies.csv\", \"immunizations.csv\",\n",
        "              \"medications.csv\", \"observations.csv\", \"organizations.csv\", \"patients.csv\", \"payer_transitions.csv\", \"payers.csv\", \"procedures.csv\",\n",
        "              \"providers.csv\", \"supplies.csv\"]\n",
        "\n",
        "counter = 0\n",
        "while counter < len(CSV_TABLES):\n",
        "    current_table = pd.read_csv(folderPath + CSV_TABLES[counter])\n",
        "    print(\"Tabelle: \", CSV_TABLES[counter], \" mit den Attributen: \", current_table.columns)\n",
        "    counter += 1\n",
        "\n",
        "print(\"Alle Tabellennamen und deren Attribute wurden erfolgreich ausgegeben .\")\n",
        "\n"
      ],
      "metadata": {
        "id": "CLO5VkzZN4xE"
      },
      "execution_count": null,
      "outputs": []
    },
    {
      "cell_type": "code",
      "source": [
        "# CSV Daten in SQL Datenbank laden---------------------------------------------\n",
        "conn = sqlite3.connect(\"synthea.db\")\n",
        "cur = conn.cursor()\n",
        "counter = 0\n",
        "\n",
        "while counter < len(CSV_TABLES):\n",
        "    current_table = pd.read_csv(folderPath + CSV_TABLES[counter])\n",
        "    current_table.to_sql(CSV_TABLES[counter].split(\".\")[0], conn, if_exists='replace', index = False)\n",
        "    counter += 1\n",
        "\n",
        "print(\"Alle Tabellen wurden erfolgreich in die Datenbank geladen.\")\n"
      ],
      "metadata": {
        "id": "7vQc7VfVM-00"
      },
      "execution_count": null,
      "outputs": []
    },
    {
      "cell_type": "code",
      "source": [
        "# Test der Datenbankverbindung-------------------------------------------------\n",
        "\n",
        "# SQL-Abfrage erstellen\n",
        "query = \"SELECT * from careplans\"\n",
        "\n",
        "# SQL-Abfrage ausführen\n",
        "cur.execute(query)\n",
        "\n",
        "\n",
        "# Ergebnisse abrufen\n",
        "results = cur.fetchall()\n",
        "\n",
        "\n",
        "# Ergebnisse verarbeiten (zum Beispiel ausdrucken)\n",
        "for row in results:\n",
        "    print(row)\n"
      ],
      "metadata": {
        "id": "cK7YTG0Xzpkt"
      },
      "execution_count": null,
      "outputs": []
    },
    {
      "cell_type": "code",
      "source": [
        "# Funktionierende SQL Abfragen\n",
        "\n",
        "# SQL-Abfrage erstellen\n",
        "query = \"SELECT Description, count(Description) from disease group by Description order by count(Description) desc\"\n",
        "\n",
        "# SQL-Abfrage ausführen\n",
        "cur.execute(query)\n",
        "\n",
        "\n",
        "# Ergebnisse abrufen\n",
        "results = cur.fetchall()\n",
        "\n",
        "\n",
        "# Ergebnisse verarbeiten (zum Beispiel ausdrucken)\n",
        "for row in results:\n",
        "    print(row)\n",
        "\n",
        "# Balkendirgram erstellen\n"
      ],
      "metadata": {
        "id": "BIKzQQnjzpnA"
      },
      "execution_count": null,
      "outputs": []
    },
    {
      "cell_type": "code",
      "source": [
        "# Allergie Verteilung im Geschlechtervergleich\n",
        "\n",
        "# SQL-Abfrage erstellen\n",
        "query1 = \"SELECT Description, count(Description) from disease, patients where disease.patient = patients.id and patients.gender = 'M' group by Description order by count(Description) desc\"\n",
        "query2 = \"SELECT Description, count(Description) from disease, patients where disease.patient = patients.id and patients.gender = 'F' group by Description order by count(Description) desc\"\n",
        "\n",
        "# SQL-Abfrage ausführen\n",
        "cur.execute(query1)\n",
        "result1 = cur.fetchall()\n",
        "\n",
        "# Ergebnisse abrufen\n",
        "cur.execute(query2)\n",
        "result2 = cur.fetchall()\n",
        "\n",
        "# Ergebnisse verarbeiten (zum Beispiel ausdrucken)\n",
        "#for row in result1:\n",
        "#    print(row)\n",
        "\n",
        "#for row in result2:\n",
        "#    print(row)\n",
        "\n",
        "# Balkendirgram erstellen\n",
        "df1m = pd.DataFrame(result1, columns=['Disease', 'Count'])\n",
        "df2f = pd.DataFrame(result2, columns=['Disease', 'Count'])\n",
        "df1m.plot(kind='bar', x='Disease', y='Count', color='blue', title='Männlich Allergie Verteilung')\n",
        "df2f.plot(kind='bar', x='Disease', y='Count', color='red', title='Weiblich Allergie Verteilung')\n",
        "\n",
        "# gruppiertes Balkendiagramm erstellen"
      ],
      "metadata": {
        "id": "7VOYPp_XzprV"
      },
      "execution_count": null,
      "outputs": []
    },
    {
      "cell_type": "code",
      "source": [
        "# Allergie Verteilung im Geschlechtervergleich\n",
        "\n",
        "# SQL-Abfrage erstellen\n",
        "query1 = \"SELECT careplans.Description, count(careplans.Description) from careplans group by careplans.Description order by count(careplans.Description) desc\"\n",
        "\n",
        "# SQL-Abfrage ausführen\n",
        "cur.execute(query1)\n",
        "result1 = cur.fetchall()\n",
        "\n",
        "\n",
        "# Ergebnisse verarbeiten (zum Beispiel ausdrucken)\n",
        "#for row in result1:\n",
        "#    print(row)\n",
        "\n",
        "\n",
        "# Balkendirgram erstellen\n",
        "df1m = pd.DataFrame(result1, columns=['Disease', 'Count'])\n",
        "\n",
        "df1m.plot(kind='bar', x='Disease', y='Count', color='blue', title='Verteilung der Versorgungen')"
      ],
      "metadata": {
        "id": "e-xeVWYJahA2"
      },
      "execution_count": null,
      "outputs": []
    },
    {
      "cell_type": "code",
      "source": [
        "# Allergie Verteilung im Geschlechtervergleich\n",
        "\n",
        "# SQL-Abfrage erstellen\n",
        "query1 = \"SELECT payers.name, count(encounters.id), sum(encounters.TOTAL_CLAIM_COST) from payers, encounters where payers.id = encounters.payer group by payers.name order by sum(encounters.TOTAL_CLAIM_COST) desc\"\n",
        "\n",
        "# SQL-Abfrage ausführen\n",
        "cur.execute(query1)\n",
        "result1 = cur.fetchall()\n",
        "\n",
        "print(result1)\n",
        "\n",
        "\n",
        "# Ergebnisse verarbeiten (zum Beispiel ausdrucken)\n",
        "for row in result1:\n",
        "    print(row)\n",
        "\n",
        "\n",
        "# Balkendirgram erstellen\n",
        "df1m = pd.DataFrame(result1, columns=['Insuarence', 'Count', 'Total Cost'])\n",
        "\n",
        "df1m.plot(kind='bar', x='Insuarence', y='Count', color='blue', title='Verteilung der Versorgungen')\n"
      ],
      "metadata": {
        "id": "7O382ctrahDL"
      },
      "execution_count": null,
      "outputs": []
    },
    {
      "cell_type": "code",
      "source": [],
      "metadata": {
        "id": "LXf8Y_8mahFM"
      },
      "execution_count": null,
      "outputs": []
    },
    {
      "cell_type": "code",
      "source": [],
      "metadata": {
        "id": "-Rubmn3gahHs"
      },
      "execution_count": null,
      "outputs": []
    },
    {
      "cell_type": "code",
      "source": [],
      "metadata": {
        "id": "CnLRePIyahJ0"
      },
      "execution_count": null,
      "outputs": []
    },
    {
      "cell_type": "code",
      "source": [],
      "metadata": {
        "id": "w9R8gCKHahL0"
      },
      "execution_count": null,
      "outputs": []
    },
    {
      "cell_type": "code",
      "source": [],
      "metadata": {
        "id": "DicKot6dahOE"
      },
      "execution_count": null,
      "outputs": []
    },
    {
      "cell_type": "code",
      "source": [],
      "metadata": {
        "id": "xdHoZqilahQV"
      },
      "execution_count": null,
      "outputs": []
    }
  ]
}