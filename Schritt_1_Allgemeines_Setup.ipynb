{
  "nbformat": 4,
  "nbformat_minor": 0,
  "metadata": {
    "colab": {
      "provenance": [],
      "authorship_tag": "ABX9TyM8CWQlcwrBjmuSVLCpQeAx",
      "include_colab_link": true
    },
    "kernelspec": {
      "name": "python3",
      "display_name": "Python 3"
    },
    "language_info": {
      "name": "python"
    }
  },
  "cells": [
    {
      "cell_type": "markdown",
      "metadata": {
        "id": "view-in-github",
        "colab_type": "text"
      },
      "source": [
        "<a href=\"https://colab.research.google.com/github/MichaelKru92/Projekt-ML-Modelierung/blob/main/Schritt_1_Allgemeines_Setup.ipynb\" target=\"_parent\"><img src=\"https://colab.research.google.com/assets/colab-badge.svg\" alt=\"Open In Colab\"/></a>"
      ]
    },
    {
      "cell_type": "markdown",
      "source": [
        "**Setup und Vorinstallationen**\n",
        "\n",
        "Um lokal an dem gemeinsamen Projekt zu arbeiten haben wir folgende Vorinstallationen durchgeführt:\n",
        "\n",
        "1. Schritt:   \n",
        "Prüfen, ob pip installiert ist und python3.12 die aktuelle   Version ist.\n",
        "\n",
        "    Prüfen, ob das Setup die Requirements des Projekts erfüllt oder diese direkt installieren. Eingabe im Terminal:\n",
        "\n",
        "        python3.12 -m pip --version\n",
        "            --> pip 24.0\n",
        "        python3.12 -m pip freeze > requirements.txt\n",
        "        python3.12 -m pip install -r requirements.txt\n",
        "\n",
        "2. Schritt:  \n",
        "Virtuelle Umgebung namens .venv erstellen. Eingabe im Terminal:\n",
        "\n",
        "        python3 -m venv .venv\n",
        "3. Schritt:       \n",
        "Aktivieren der virtuellen Umgebung. Der verwendete Pfad     bezieht sich auf einen lokalen Ordner auf dem Desktop. Eingabe im Terminal:\n",
        "\n",
        "        source /Users/...../Desktop/Projekt-ML-Modelierung/.venv/bin/activate\n",
        "4. Schritt:      \n",
        "Python-Module in der virtuellen Umgebung installieren. Eingabe im Terminal:\n",
        "        pip install pandas numpy scipy skikit-learn matplotlib etc..."
      ],
      "metadata": {
        "id": "y2d3vtK9b2MA"
      }
    },
    {
      "cell_type": "markdown",
      "source": [
        "**Import der Bibliotheken für das Projekt**\n",
        "\n",
        "In diesem ML-Projekt verwenden wir die folgenden Bibliotheken:\n",
        "\n",
        "\n",
        "*   pandas\n",
        "*   NumPy\n",
        "*   Matplotlib\n",
        "*   seaborn\n",
        "*   Scikit-Learn\n",
        "*   os\n",
        "*   sys\n",
        "*   sqlite3\n",
        "*   certifi\n",
        "*   zipfile\n",
        "*   urllib\n",
        "*   ssl\n",
        "\n",
        "Diese werden im folgenden in unser Projekt importiert.\n",
        "\n"
      ],
      "metadata": {
        "id": "U7Gl2iEkfLDv"
      }
    },
    {
      "cell_type": "code",
      "source": [
        "import pandas as pd\n",
        "import numpy as np\n",
        "import matplotlib.pyplot as plt\n",
        "import os\n",
        "import sys\n",
        "import seaborn as sns\n",
        "import sqlite3\n",
        "import urllib\n",
        "from zipfile import ZipFile\n",
        "import certifi\n",
        "import ssl\n",
        "\n",
        "#Aktuelle Python Version wird ausgegeben----------------------------------------\n",
        "print(\"Python Version:\", sys.version)"
      ],
      "metadata": {
        "id": "aEfH5fNkeGRD"
      },
      "execution_count": null,
      "outputs": []
    }
  ]
}